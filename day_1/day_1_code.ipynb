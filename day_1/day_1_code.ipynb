{
 "cells": [
  {
   "cell_type": "markdown",
   "metadata": {},
   "source": [
    "# Day 1: Trebuchet?!\n",
    "\n",
    "## Part 1\n"
   ]
  },
  {
   "cell_type": "markdown",
   "metadata": {},
   "source": [
    "On each line, the calibration value can be found by combining the first digit and the last digit (in that order) to form a single two-digit number.\n",
    "\n",
    "For example:\n",
    "\n",
    "1abc2\n",
    "pqr3stu8vwx\n",
    "a1b2c3d4e5f\n",
    "treb7uchet\n",
    "\n",
    "In this example, the calibration values of these four lines are 12, 38, 15, and 77. Adding these together produces 142.\n",
    "\n",
    "Consider your entire calibration document, what is the sum of all of the calibration values?\n"
   ]
  },
  {
   "cell_type": "markdown",
   "metadata": {},
   "source": [
    "### The Challenge Approach\n",
    "\n",
    "- parse text \n",
    "- iterate through each row\n",
    "- select the first and last digits\n",
    "- add them together \n",
    "- sum all rows"
   ]
  },
  {
   "cell_type": "code",
   "execution_count": 105,
   "metadata": {},
   "outputs": [
    {
     "name": "stdout",
     "output_type": "stream",
     "text": [
      "['zlmlk1', 'vqjvxtc79mvdnktdsxcqc1sevenone', 'vsskdclbtmjmvrseven6', '8jkfncbeight7seven8', 'six8dbfrsxp', '2zpcbjdxcjfone68six', 'zqmzgfivethreefdnlhpeight8798', 'fivenineone6', '6sixzvdsprdqlftwonine', 'lqztrmztwo8dg', 'four6onerv2pfhm', 'plvzrs5', '5282gdnc918', 'pskjsrchjpxoneonenine96fivefour', 'fivefour2hhtprpjndm4', '6qbdcfdjsd1lmldklflteight', 'gctgdhpkkjninekj65rkqg8', 'eight6gcjlsmzt5', '5chvmhmfgl7xkjfdpdbp', '5tpzpnrgpftrnine', 'threeonehqbzktq1', '685fivetwofour4lvgxgdb', '9jdxljkfqttstqxdzdsztsxrfjbkqmmsqzseven', 'twostcllbpndtwo15seven', '8fivetwofivetjfvsxzs5kdkpxgxvsfhr7', 'sevenlvrc2fivefivesixqkzdkrfour', '45jjpmnscmmk', 'lhxgbfjtcknpvz6', 'tndgnkcqtjbrzgbrfjr3fiveqxlktntzthree', 'vqb6threeeightbdt', '1eighteight7fourone8', 'bcmqn9onecnrzhsrsgzggzhtskjeightbz6khfhccktwonenrj', '6qmgkbkmlxfourprhxrxrdseight', '9three479', '9two6zhtjzfmjrteight', '1fiverrxdmvfvxhs7jqzzqpcflzt75', 'pnjmlpbbeightskgdf6one', '6cpzqzfsjtpfq135', '484', 'llfvhxglfivesixthreenseven36', 'jhcpt9rq7fhzbnhk', 'tthree5lrgtbxxvonezfmdpseven2', '67jmrxfdmfbmzsixkzghng', 'sixthreefdbzhslqone2sevenfoursevennlnpjgsx', '54zrkfbfq', 'six7rfpfbzbghxcnxlnfjkznine7', '8dfoursm338cz', 'sevenfiveeightone68', 'dqmvcbdclx23653', 'eight58qgjlcvflrggndskff', 'shmmk28', '93eightdtgcnhphv1', 'gdtdjgggtj3dgrqsmvfh', 'one3pksbh32three', '9kkpjrmhmmlzvqngnhftwoonexjqmnfive', 'rlsevenblrvrk7', 'nine9hqmtshkjdhs', '93fdbrbnnvxsktggqnjfjk7brsncmxkcfzhm34', '248twofbkfpxtheightwovng', '28746threecbffiveseven', 'eight449', '4eightnine4ptmzvpfqxhrzvrpjhfsdsvlhbht', 'sevensevenfive6bjf', 'sqthreevhmvbgxvnk2one', 'ghpsix5seven31', '7llnsgdtzbxjbbqcmxfhgcdnptwothreeone', 'eight3fouroneplsrfvqf', '4six6one', '27twofvlssjbsk8j', 'njlllqnrvx8four', '5onekcngbbmpnxseven9fourzcprjp', 'sevenfive2sevenknzpxtx', '8eightljhtmnxpjhxhnqtwo1rjddcbj', 'mzsqh3sixfivethree', 'deightwoeighteight5', 'nine42sevenscnjeight97', '2gcrkrfourfivenpzssevenseven4', 'eightdtwosevenmj3two', '9zkhqlcd3', 'ctpncdkcmonehfive9', 'sixrtwo7rqnine689', 'sevenm16gshq4xqdxqbhcl', 'zxxnrpstkkmnhcc6', 'three1sixninelsxrbkpneight', 'jzkfvrtmctjz5', 'sdsfrh4nine', 'foureightfive7six', 'ninesixfivefive53seven', '42threezpvxnrg5sfzctbtk', 'seven7pkfnqggvjthreextfksczdd', 'xsb6ntlfzxvlxrkx1sevenkmnqxhcdnqkdzt', '6sbzfqfdm', 'lrfjxppqbdseven94ntnskpkdqeightsix5xskh', '98czzcq', '696cmcdpztwojk6tz', 'jbpfbqfdd64four2onezrfm', '9jfklkpcffive5phpzqvhrtcqvmxvmgljn8', '329sixjglqzqzjnlsqbnqnzsb56', '59three', '4863five', '6txkcgtn7gtsxgtnine', 'lxdtnjvjbgxpnrft8eight2cjqfdtrk6dm', 'twothree53', 'two1qf4', '6ltxhxcdfive', 'rlrdkzgnk6mnsbxfkhh', '41z4nzcqzjqrnmsixtrrbgtwo', 'tbnsixsixtwomptdjtzkxfhlflpcdnbmrbctjscxq6qtmjmkpfk', '1vqlkjtmjeightcjzxnzscczqmxcpvnprhtwo', 'lznhcphkdmrhpninesix344', 'fggprsvtgmbbtlk14xkrnbcjrdbrsbdltfztmtwo', '6rqlzs34cdlzmxone', 'two7zpbgsxl', 'lckblpljvv5two75fivegttgmvcpmlhltxz', 'bjfbxdpvnj581three', '1seven4', '8ninezhzrgg6crlpggmtfour41lhjcqtblh', 'seveneight8sevenoneshvkcdhgfmxhn7dzccsdfkcx', '7zljpgl2', 'six1two', 'fourztcnpn8bsbzfhdhgkjjsthree', 'onepthfrh9vcs9sevenhljhmprhlsjrr', 'vlnpmqlpjfour5', 'two3qfourlqsninethreefour', 'hshdseven7', 'eightfive4five6four4flrzhrxzlreight', 'five187', 'seven2xlbqkhtflqtsfhrf1vvnbt', 'onefiveninethree26', '2sck1n9eight6', '6sixsix7two9xznczchmx', '27eight', '7six3', 'ztlbbncthreeseven54three', 'eight8r6mcrcgrz51', 'eightnines6nine75', 'nhx83fivetwofivefourrvxqhnpeightwoj', '857sixzrnine6dlprzx', 'lteightwo2132seven7oneone', '1516ldxxftfnineseven5', '6fourfivej3', 'sjmjp99', 'bprsznhxztpp51', 'cmfivetwo1four', '6mgcffzzspll15djsoneseven', '9qjcvfourqdtmhlqzfxfg6', 'six45fivetwo3zkpxmxsgxtmg4', 'three12four72kvztxqdmfxhrxsp', 'threeninebnzthreedfqvm93kqmxpsnmb', '8nzfbcmghfive92', '914six', 'sevenfive6', '3bxxccqzdjsfive78lhtpbl', '5zdvjxsfvcptngh5', 'vboneight4six17', 'seven8eight9krfhll3lnine', 'stv4eightonesixcfveight', 'rnmjpszvx94fivefzsphkkftgxpsfhvthsbv', 'zmntmkcbgrtwonspdq7', '5ntxnjclc8six', '8six58five', '6ninesixeightqjnjfbbtlmcqvthree', 'hgjh9vhtdtcgkzpltnpxfqhsix7kq', '64sevenc9', '96z62ninenine', 'sevenseven38', 'ckk9zdnkjvskct', '8flk7', '8eighthqntfrh', '8cthrxbjlxbnqvqc496htsltqpqktqnz', '31threetwo5', 'twofour5', 'rlggcjdthj3nine', '18five4', 'sevenhgncfjnseven1twoseven', 'kshqgsm3pcd518', '8qrpbpbbmzmbctsmvtddoneninefivetwofttd', 'fivetwoqvtscrs133two5seven', '6ninedcsrftdtwofivexzmpxdccnine3', 'threeseven73', 'pppkjkgt3', 'seven2six1ctmmjvdgj8h9', 'xkpk3fivemgmrfph', 'pppgfivesixnineqxs6onebgsplgfhqp', 'cvjq15threesqqtpczr', 'three95', 'twoldjbdxnqncntpphxshbthree767kfqbsqhlkg', '9lfhbgmcqnhhlvvpvdtwo37', 'v7gj', '23fvgbbdjgst8', 'six3frmpq', 'zrggqtwo6sqr8', 'fiverdrxxtjlhzn97fxsqpxf', 'sevenlpb2sj3one312', 'four6six9fourjbsix7fnr', 'lpbgnkhkkbninec8three', 'spvkzsthfour2', 'ljbrlhtkxfkskvdbgxqmmjn3nineqmqtffkfive9', 'h1jmxtlfivenine1djqrsnpqccvzmdhsmxnqrjlgdlnj', '8threeseven', '1onefive6one71five', 'qbjqnfsevenmls8gdnr66', 'jgpzsix76pxldgpcvdcpzn', '8nkdjhgrn', 'threeeighteight79', '9ninelzzrjqpkseven', '75six', 'threebpfsn3three', '4twonel', 'pjvmb14tzbz2tpfourfourseven', 'zslfour1pkklkrsixncvjtkn', 'honeight3', 'six7stfffkjg', '42fourktbdmzstcgmdtcgbhffthree', 'two27', 'ghvrgzj6six1', 'vxjqk3xhlr3', 'threetgzkjslbdrdxgfzsd3lcheight8ninebxhzf', 'sixfive7one', 'f5', 'qq6lkvlmrnseven9three', '8fournine64rzdnnhgdsixseven', '4vttbdfivesgdnjsvsxt6', '765', '6czbdlfcfkvplmcb', '7one52', 'eight6neightone', 'six5lttjtcbxmxnz', 'threetwo692eight', 'dhcztvmmlllg8four', 'btdjgnh9vjvlqfkznqr635hhcr', '2jvbxcfournine', '4sixonemp299sevenfour', '1sixmdqkzqtgzeight7nine9', '4nnhfkrlmfpseven', 'blhvfourtwo5vrlqtqrlpxgd', 'kptg4eightvglvjdczfive', '5599msgkplgqfnzseveneight6', '3tnfvgftsnbzksnrhtrtlbfxcfqfjgnndlmfvkqvhcmgdtwo', 'txvjfglxtbfive3zpx19', 'six9four5', '5fourseven', 'fsevenmnfskhckvfszs73rnjqjhsseven', '95knstccbfivepgpt', 'kmtjfxtztqnrngxxgcgh1kdxpdjzspz', 'two2rtcmvpbzsmfourchpqthree99', 'fzteighteightlvnoneslhjmcrqrg8pzvszdxzbp', 'one49szrxcjvtt3eighteight', '8nqbmcsthreeninexf7', 'fvvzvpmsgrrnhjksf8l4', '7msxhtdk', 'jgtwonetwosixthreervlmxlnine869lbqzxpqqn', 'nvdn6bdg9ninesix', '82rxtf', '9tdqsdppseven7one', 'tlbbxvtwo8one671bhghlhdpfh', '3onethhhlmgfhseven', 'n2six', '53eight', 'one5five85', 'three5375nine55', 'fhvxvtjcnn3stcjhsdjtc1hhmk', 'six1jmgzrklbxrmzshpfgnv94hzfd', '737six', '25nine', 'fivevnpmlzvvp118lbv8xzplfttx8', 'ninethreesevensevensix4three2', 'xkgtqqlcdr51bgtx', 'sixpddqmbb5onehbmjfbpqx3threechgvdkghhjhnxl', '7eight9sdcq1', '9ninejbcxzp', '3two2sixone', 'seven8fiveonecrcqrglql141', '4nine3cllndctlninecrdxsevenbhbqsgtjnchkmknpdht', 'sevenzfbnvgfive3threesix', 'tvvjkskxgvfourxhccmmpxqx8mtxmfxmrcnine', 'ptnnhktxxn2qrjvmddszgcftlpdfvxcpkm', 'mboneight8lbjvvfzrl8qgqf', '7twomjfhzl', 'sevendrdvmx2ninethree7seven2', 'zoneight6eightnldnvhqpbd5', '29c', 'kzfkvqqs2ninesmlcrg573five', 'vxcgdz24ljhrhgsix6', 'one3nine53xtr7seven', 'djdeightwoeightc2six6nine', 'eight2727seventhreeone', '3gdtc7llsdlftdrx', '581vjcbpmrzlp157jjcmlrzhr', '7eightsix8fourgg69', 'zsh38twocvklone', 'three6np', '9tvxqtbpf77one7149', '7three3gqfpfqmhsfxqbqbnv', '8rhflhmhtbm', '217onethreelgfmpdscnine98', 'three3stnst6xqqxvxzkfssevenbzktd7', '46ttbnzlfnsjbc', 'bsqxtvhgthree58four8seventhree', 'ccntwonedsjvftmftwoeightfourbxxt5eighteight3', 'threeninembphrpfourone13hnjvn', 'bkm2onez6xxdjvnxvxjrtwoeight', 'jztoneight8gsmnjcfvk', 'six3fourninetwo62', '99dndgmkcctwoneftn', 'eight7pkzcxqhzfiveppvnineksjfhhqgm4', '2ngrttwozgdsrdsfq5ftgsq', 'fourdnmxjn5997eightkxkkpseven', 'rxnrnqvm98zjxxmkflone', 'three1dkmtwoone', '6tttkrtnhgfzx8five4shlcvhr', 'nffggbxmhkpcppm8kjhktmdvlkkmrffdng254', 'mbjm445', '6nfqxlhklrmfour7', 'twosixsqtsfcleight8onefdsjxvbgt', '9bkkrznine', 'fivedzpnp1', 'cctxzzjbhgttmszdph1sixqseven2', '1qnfxpzfg2feight', '5gdj3shgqvjdsix23gqp', 'xdgxsrshddmzmhkhznsdthree4one', 'gmtsixsixninexxsxone7three2', '1rttbtsccr', 'threeseven1fdzqvmbnsfive6', 'nxqxvhsix41385none', 'sxgmkrzmbvn4sixfive5five6six', 'three6threepdjsseven3kgxtwo', '8grzmhsmkthree', 'seven1htzbglcdfbcg', '5nsjsnrscz1zhrvjmtg5onefive6', 'two4one', 'dzl41four3threehbbqnkhn', 'onebsm86', 'xh2', 'eightqmdbfiveqv21sevenseven', '5onefour3twolrtmmonetwo', '32seven', 'vpcncrhjxgcs3sevenninenine5two', 'mponeight9glbvgrff', 'zgzzzpfffneighttdcplkbfr57', '7nineninemfneight', '3ddrsxrmbzsmxkdfive8', 'pnxtxmfrpmtwo3', 'onerktgpv55', '79twosixhnnrqklz98', '5915vnrpsj', 'rfg7szlxneight', 'ninejhnzpnhkrlqceightfive5', 'tzcgzzx6two3qfk5dffgnp', 'ceightwothreerqnfl5fourdfbrthreedntdchgnine', 'sixnfmdk3sixthreekgvmrzseven1', 'mcdbsqnrzconetwo1dthreeeightjfjdblk', '48threejtdnq', 'threerxnrgzd9', 'vmzgfplpveightfnctwo4pptlb', 'ninesixqtbqgjvqv1three8', 'cfnlshzvczgvm1onefive', 'gsskzxkgrbzx5pggzmsfhtwotrsvmttzdc8three1', '3sevenfrc7vzg', 'dcmxmg7d2jlbtfhkr8', '62nzzeight9txrzlm', '9pjllhmfgkvssixsixthreeqmzthree', 'ctjksjbbdn28', '39fivefive5cnqjtr9vpvsix', 'jlbjfouronent7mlpqpcvqcmhfhvqjqcmtwo', '2kpvxg6nine', 'seven4mlsbhzcmjfthree8', '1khfjhp3fourrh', 'ninesixpfrjvfm8kkjsrhttxsslhtwoeightwovvg', 'four2nine', 'fourlgcbfptfz45nineeight5eightkqtbt', '5sixxqggppnl7', '51zvfive1v', 'fiveoneqqk5seven7four3five', 'kqlkrntrcfrhtwo9scczeight8dbqmfhstnzq', 'ghdjlnzmskmvjeightnzmpbjgone61', 'three8jrhhmfnfive3four48eight', 'nine87ninekfzh8', '329nine', 'jgtwo3xvlkbvhrss27vltrghkljq1rkzkls', 'vrcfourtwoqlgcrxf274', 'sxzkxpvnhsixsevensixtgptbrpnfthhnj15', '5rqqntzlq1one', '1pnine762fhone', 'ttghtthree5eightbqm4two8', '2pmtldtwo6onedtsklbcbjhone', 'fourseventhtdcsmc5', 'xqp75five99g4', 'mrjpmm4crgk212seven3', 'qjpdjb1', 'two44sevenqtcdhxjp35xxx', 'sevenvtd7ttvmsninergrgdxbdqcthree', 'pgkqpltdzcthreemzrsrqjfourcrghhsfsjcqtmvxq4', 'threeonexfrdvr1nblctsevendqmmzdr2', '8three2six8', '59twozjfour2', 'qgtjgmrvfcffour29four5six2', 'zzhnine3nineknzkvmbxvm54fivelrrgc', 'fonesix3three', 'seven6fivetlhhonetdzrkhjzqzseven', '1ldxvjseven9eight5', 'seven2bcbktzsjpp', '2kxqxflk55two7cflfdfvsx5six', '5lvhclqxtf', 'one768two', 'vfh8', 'nineseven3xpc2jkvmgkqc6two', 'vvcvzfb947twortlnl96', 'seven58nine4nine8tbtjqfpgp', '7onefive4lbhslhdpsbtwo3vm', 'foursixsix3971fiveeight', 'nrqxrffqbp15', 'mklsgg3oneseven6eight4bnbfxf', '9five5klpzgrccnxvd96three', 'sgbqgrlqreight8', 'jlvrfrskmlrdtdpr4foureight1xccgtcf', 'five5threek4hsmqjq', 'five6pxqlplmtvcvjgtbk', '3sevenninefourone', 'nbrthreeone9gxeightlrkfvgtzhtwoqvnfb', 'teightwo972hrdrlgn5mpbjrxprpkjxgdkghgrgbthree', '7nzgktdsvkjlqdlonergplcdqvv', 'kzxttx3fivesevenjdlqz9eight', '9slfgkbdmq24nh595two', 'tkbnjhjrfivekqqxsjleight1', 'seven23kh2tggrone', '12four1xcvkxbcv1four5zs', 'j7ml', '8eightone58dnxhddzstmfleight', 'mtd37fiveeight3fxcbcd7', '2fiveeight', 'zkmvsnsgnine321mtbzzg', '4tgzhmf9', 'threexjqtqzgzj4kvdtbpjv', 'twohmnpsqbdcrbl35three4seven', '2twolpmdnxmcps8fourttfrhzzx', 'onegqsqrhx2twoeightcxmnxvzsfivethree', '2eightseven92sixcjmkzjsl', '9gncpkg', 'six51eightfourkmqbrrkkrjzmhgsevenfour', '9bhxxzseventhreesglvvpjmc83eight9eightwomd', '164cndtzcrdrxfzgnvqkvd1threefive', '43sjlrhsrthqtwoqrxkqsixsix', 'twohfbqjxmc3four161three', '4ngvsmdvm', 'xmhkgqdnfbdxcxm9', 'lqgxmshjzgggj9jsqnv96one', 'vt2znbmqonesix1gjppfmsevenone', 'nvdjzzlspjthree8eight', 'qzvtwone1one3fivek', 'eightlfztsninepxfstsxtthreefourthree7', 'k6', 'zmeight2', '3cblxxxthreethree232', 'two6sixcsgnzqbttjdzqs39oneightdr', 'bnjzfkmfh8ndfssix2pff8nctdvdqk', 'spxskgfmtgghlmklqzz6tdgxnbnnxfmgnfiveseven', 'cqrlmd62gsh', '6rmrzkv4', 'nineone6dbtzrtsp8sixzrhjhkrhvsxktbdkjcrone', '5pvhbxqdvvqhlthreejqvs2', 'lmeightwothreesjrsqgsv9', 'seven8two92eight', 'five9sixeightonevzqtzq8tcgpbgthzvlcld', '51ptkkdnzhgp', '7jkrtwofourfour', 'xpzvfcdv1jvbd5mgvchdbnd9chlvqkc5', '27threectsxpfd12eight', 'prqbfh3foursevencgmhkmkd12', 'one5seven8threegqcznrrxfheightfvkjkssbch6', '1vgsixeight3sztxzjkgldmqqbrm3', 'jjcpponejtxkmnmggtfive3', 'sixlsqgmqkjjzrpqj3dgsrpdzj3mjkdqhpq', 'slxstvfive7nfst', '6fiventqxzhxkfivekcdbhrkx', 'sevenjqmfmbjfoursixcx7threexspc', 'kgqjjxfkmhqtf22htnvmpgxsztbb5', 'nineqzgzsscrrfngnzksfour1', '9threerq4rhnbmhhsoneseven9', '6eighteightmjbthree5eight', 'threexhzqqs2kjdqvjr4', 'z3ktworvbgbqzbpt', '2onefive6', 'c69492', 'eightsixnine8tpjcxmpln', 'mxxfpjsplj3msxqdnnbcbbqxfzs5ninecmjpzq7', 'cnineninesixfive3seventwo', 'six18eight3eightfourthreeone', '6zdtsqkplv41jmrk7qkgjpkqgmmqsttvrhkzone', '7threenvbjsvbshmd4sxffiveqvvctwo', 'two2two7lpmsjl4', 'sixceighteight71psffhzjdjrm', 'seventhree2eight', 'qpmpfdlr7', 'dxtzmkcrsix5', '65oneptbzdxcsqseven72five', '7bdmgtzdmtwotwoseven8one', '14sixckthree1n2', 'twotwo5hpqhmnnjbsix35', 'one5twothreeeightglqdbjlgkseven', 'one4twokzbdzv', '8mcv71six58kkxdqx', 'bgbvdrfsixfqqvnlptzrqkhgmt8', '37oneightrmm', '3onefbtvqchjthreebhxpvlqcdqh', 'gjcninercqpvvzdfkcdcfv2', '13fourbgntvtnxmr', '8447zdxvzfkft', '1foursix', 'threefivetwoseven4eighttsxflbcqtnfourthree', 'tseven1twolzjkfdttfklsdzrrflnfxfgvlq63', 'four9fone9twobhppd', 'nzcvxgjqrsfqgkktggdlnine5', '57thz', '3threeseven25', 'zsbc6fivecqvlhtwolqone', 'nnsoneightdnine6rhckhj23fjj4', 'cj1rbxlggxxgtxxbmtgfg6two', 'vhkgpz4', 'nrmskeightone9six2clhcjkcl9jk', 'onejvdcrf96hbv', 'seven8three55', '1sixtwo79', 'jcqknvjppbxsphlxrrcbzmkqnine29', '2fourvgzhnq', '2six93rdrkfjkqlllx6nine', '77onevkvqhvptbn', '32szxlxdc5zlrtjdqpt5', 'nine75hzkzvdseventhreelxt1six', 'vdbgshtjm8grgllht4qhpkhdfour', 'mrvdgqvseight3jtzfdspdtrkf', 'kcg2twoonelcpxlg', '2xlcjcxzczt', '1pszcvn12sxmcbdxznpeightxvdjjbgrjlpdv', 'fourbsbkvnineonesixthree8', '945five5one', 'nine71gzq79', '3threeeighteightldqcgtbd', 'two671four2r', 'bbfpvdsvffour5two', '767l97hm', 'twofour5', 'xxrs931ckbg34g', 'qhnht4', 'nine723nine9', '93preight5f6seven', 'one8qncpgpl', 'fiveeightsix8jr2', 'twocdv9lrtsbcdtvz62pkzm', 'dmhfljxqxeightxmbprh2', 'rr5', '5twotwo', 'three8two5', '4rjqmbdtxv42twoeightseven5', 'fourb349six', 'f31nineninetxtdtfivehc7', '1one3', '2eightxztclpbvkp', 'bkxvnhhn6nine211', '1twoseven3xmzg', 'lnzpnine54eightwoqpr', 'gnhdcgdmvthree9nine', 'vlxjmdc1fivesix', 'nineonefour69', 'ktdkztzmmcgxslggh7dhptrkgfbqnine3two4', 'qfczhgjnt6', '3fourrzmt', 'onethree2four3nztsmbqmtldgonenlc', '29six9xlffbvfntz85', 'five6trqbjkhjfmrlgpcxseven', 'threegz9chglg6', '9tq', '1onefive8two84ngrh', 'hrqhreightfive1lp', 'onethree4', 'two8psmqcbsixsix', 'sixseven3xxczmccll', 'fourmmlcgbkhktbmrp5three', '27sztxgmqdvnfivelfcpzjsx7one', 'hdbhrqhhffbgjxvdpqk6sevenbn', '93ninezmtrgjqbsp74', 'gsljpvzxkq9', 'zbjzzrnkbeightseven1four', 'fourfivetwothree2rh5', '155cqrh1', '1tjdeight', 'dvnlk78cbvdrccmmx3seven', '8seveneightsix', 'ffjlhcgxp97plmttszkvj7jvtsgsevenznl', '121four', 'threetkqnxtwobvbmzj4ppkdxqtblszmxqhqbv', '5sevenxgcgqnlpkpnfmcnkbfbeighttwosevenhpht', 'gkgnfiveninelr5eight', 'six4nine73szmldmdd', '9jfgcslbrcz', 'jrgrnmntmtwonptz8eightninesix6', '238eight1xtjdgb', '2one66fourndjcxmmbhfcq1', '5bmfntsevensix', '5832663v', '7sixdzmhfrjonebdqlqh8threeonenine', '92six', 'vqpg91hspvdgtwol', 'fivembzffnlcktwo18four7', 'six99nbzrgd8', 'onexqflrlvdmrsix9nbl1szkf', 'vqmlzjc1d3', 'three7two4vbgzthree', 'twoninejbbxhdfnbqjddj26one2', '5nine296ninefourone', 'onevznthreedbtjtgxhh36sevenfour', 'zfkffkjsz7btqgtm1lqvsix74frjhrkbjj', 'sltlgnine6fiveninegglpc8ninenine', 'two7three', 'fourbrmdvfbtnnnhr1mnhbztwo98', 'nine6slnine', 'cqkfp35hzrdlcpcsjhssdlnjv', 'six42seven32five', 'zkhjblqjlsfive9kbxzhjmnzrxbrrj6sevenjdvljbh', '9ldrjmjpqeight4pnmcfvg3b', 'lone8', 'two1sixfourgskrlfkxxdhbjspmhg', '4hgceight2one52jmbmjkjb', 'six8zfbjxfckfivesixzrpn3', 'vbrbvv6', 'jfjkvxcrbjhztvtmjbp15two6one', '3xvhtzgqpn4td', 'xthree44', '68973one7rmx5', 'ptbndknk26two8cv7seven', '57417four', 'ngeightwopgdtlxjgs3threefivefivesk92zgcmch', 'pmfjgxpg6ninefoursix', '5hlgzgrxhxxqt8', '1nine3', 'gvdhxthjxnxv7dtzninenine4', 'jrtwonehzddmgcjsn6rzldcsfpqs8eight6six', '5fourfive', 'jn6', 'two2four', '567ninefive5fivefourdrbh', '36sevensixkbphcrstnine', '76svmjhhkrt73', 'thgzhsclsptfqfzpsnine4cxxpv', 'two1one8fninefdctxpmtk7', 'seventpxmbxcl9', 'cghxxdnnf7vmvqdfhhxznine6dgt', 'soneightsix7', '7ft3threeqdhxjmkgd6vgfmb', '1threesix5lzjzrm', 'fiveonedknfvkphltcxnsvxpvxlxldxrqftcmqvvqx6', 'sone1tnmqklzvbbctjvntddpm3', 'nine9vb', 'eight52threeqnhhvn', '87fhkjhseight485', '1onesixzczvlsmhbfour7', '3ztseven', '7tjjbq2three', 'sevenv1eight9cpvmrn8oneightnxs', '1threehlhxjj2eight', 'six87twofour3646', 'eightzlmj2zreightbflxtmdbv', 'one2eightznone', 'seven2eightvlxkqnpjb7dlqrmnhtfive1seven', '43eight3', 'fivesixfiveeightsxrvgmpshvone7', '7dpmrqeightone1rdfdrx', 'dtmtpgjll136dbcjlrhzrdnm7svlrdrcngpnine', '5dl9', '94ctwo4four', '7ninegnssldmnmqc', 'nine1sevenzdvkpxxsfccmb', 'none5five1rsrsxpxnlt1lxtf', 'sixpl9nhgm', '51brpphslhjtwo2stjrkphcgrfive', 'fivetdhlrcbtwozdsfgcdnhv67fivesdjlqnine', '4fourfour7sevenfourfivenjdxvf', '674one46', '6ninentdksjfkdvhkkxzrgftnbjmfsjgzd', '4ninerpvfmfonetcnhk', '1ksbmzccfreight5', '3vqr', 'ninegqbgveight7hggnxxgrq3', 'sixfourfourseven1rfivekcflqd4', 'mzvqrlp1sixnine', 'sevennine3gqjmqrq', '6vhp8one251eight', '5dnsxqrb3twokdzdbdcncm', 'srcmzlkrone9ninegbfnfmxjf', '82lmhlhmtgfour6nbljxrgjb3ninesixtwoneqhc', '6pctdhrmhrgsbm', 'sevenhgpfqvkh5three51jdkqz84', 'hfzlmldpn9tjtlpb', 'phccmtthonesix6', '3fourbrzqzsbnthone', '11pssjfqkfivebmprltbvm4', 'gmtc2five', 'one2lj4fivetwo', 'ninexjrzfonehvntsmnzx2', 'fourg746jpxvrbzdmseven', 'six76436', '89gddfltmdkkmleightqbzppmklxzgpnlg', 'sevenmtfmdrbcl9', '3cpgvjgzxsixnine5hvrxbdnclfgbvfsix5twonelv', 'eightklzkzxltzone5', '377bqrbsdk1eightthree6', '2sevenlfqhmfour', '21oneonevg9rr', 'onenzjgjxlmtrgbt84onenlls', '7rlgkgrsixfive', 'nmmpl6fc7ccg8lkvpvqplztwo', 'mzbxkmfcd89six', 'fbhzskjt4seven3jrvfjhqsbcone3', 'five3sevensix', 'eightsix6', 'n9', 'threeninemzpjqpcpvnine424ninesix', '8ninesfour7', 'twopbsbvdpnine6fourfive7qbbckmhxgg2', '5ksvzfbdbgvnqonehsgtvgkbgjkzggsmpvkxpxtft', 'qeightwo2three68nine39lr', '5gpz6283five', '19fourjctnldrqlghx', 'gtwonetbqxnvxlz2three', 'jdvmph5fgztldhtwoxhzk', 'fourgmhflfpxmbqpt8jdxkntnchmtkgqhsgthree', '527five', '5sixfour', 'mdchltjjqmfive7', 'kn6glgjlspeightfivej', '3vsblvhkmt7', '17rmnoneqqgqmcvlseventwotwofive', 'eightjbmnzngtxsix3two', 'fourgdczfkvs3onekrcm', '2prvszkhlnine', 'nine67mqtxbthtfxgtwof', 'lrcrninevgshzsrmj9threethree6', 'bslrhlvpthree49fmlzb', '3nzqmndm7hxzrlsxgmt', '48jtjrmzvtct', 'pzpthxqxs9pjkhxc6gk5', 'eightbdvrcsg2tgjkzzj', '2oneeightonemlgpgtdg', '8sevenrxksglxdfour3lhst', 'four88sevennine1', 'fiveqszbfmdv8xfiveeight', 'sqqbhtk3nine5mqzkzbzlxlhdtwo', '8eightone', '63njcjnbhptone75fqhg', 'fourthreefivesix9pvfivehmbhmhtrplseven', '5fourbfnzxfivenine8four', 'rzhqrxfhpf9seven69kcjhxv', 'nlh3fourfourlbppcjdx37', 'hntmdckqhonejmcfphrrthreesix3two6', 'eight7sevenonefourfour', 'nkhfgtknbjsixzrpppnqsone15threesixfive', 'nine5xlvfqmfourfive3', 'sscctsdfourkppsrd6eight4', 'eight92', '1oneightfs', '2hmgrqgjznhh1xztfmthreev', 'jvpzlqbsrb3', 'pszdpm3', 'kccl2', 'dzxmqpgfive6338seven', '9nqfpv', 'prphfourninesix5six', '57vbcbcvtbgtqmktjscjbzfkjgzzv7rspqlrdfsmbsvbmb', 'qxqlzmeightfourhzvctqsxczg4qggztsnrzz', '79seven8rzgzhksz97tbrftfllmpone', 'twovdspsvmftgnfjdqgjpv92qdqzcgr2', '6ninesevenninecxzmvlczjf1eight', '186', 'fourtwo324five5eightv', 'six95five1tnpsqkr4twocgnbrtr', 'threesix2ksh', 'dpbbkpxvd457sixbncfnkbleight3', 'bxrbglhfcz2five', '8three3fivethreeqjg54nine', 'nineonepvhrzcdm9lbqqgrdmggzkqzvhnbczrhhvjz', '3rgljppmcftqmqkqbl', '9threeqjrjrgseven', '4qtfn', 'five7fourfourhbspnlmgsmxnxt5', 'fffctbhcpklfndj23twotwo39', '62sevenxnxthreefive6two', '5772six9five', 'seven599rpztwo', 'onefiveonemsftxtqdcsix7jngtvr', '12fttpqzzlk', 'zcndrqjsfourthreethree11seven', 'nineone8', 'tdlbrszns4pdlptfvcnxqhx', '5six2nine8hvktskx', '5xvcnbsix9vnclxm', '94ptv6mzgninesk96', '4lfvvczdgvh8rzgkmvnk', '74nsvkm5nztmctpmngppzkphltpx', '46two9four67nine', 'oneonefive5fchd3nksmgs', '6vnstxdtlninezgdvpmjjcxlqvc', '6five3', '7four76rklqgljhdzzhdcqrqzpxmfftbcfiveoneightjzg', '43eight43955four', 'gsrrtkpqpseven1fourbfninereight', '6rvdtwotwo4eighteight5', 'foureight9', '468cgbctpkqninetsxskqbhmj', '7twonine4', '8jnssjzcgpzrvbqzmv5three3jmhfjcbtwo', '4qjrgrntbfzghfkzxvmj53pcrjrlls', 'twonnjv8', '97three9zgkhgmrcfour', '9eight23', 'qtsgznprvthreethree6', '63tworhdlrfstgxfmjjknfourqfvfjjz', 'sevenltdcgs8three', 'bjctzmmbhrqlfzqgxbcdgdgprv9twogjmrdclzt', '63lslhrbmcznine6', '66gc8seventwo', 'zdrpnjjtwo62ph6', 'ninerdxqgxtqrrgx3gz3three5lfc', 'lflcrscclg35oneeightpmhhm1bkftvxqbmx1', '74rgb', 'six8ninelvxdqphkd6', '5zsbfjsixseven1', '4rflxzvnn', 'mjbpr4qjjhvbgn', '26four6drctrdmz', '6mrzflsszvq', 'fcjbdqdnh1stglpmc6nmvggcvnrghcpcnz', 'one2four48fourcgkvvnlzlb', 'kc2461two', 'fivethree54dbvxmf', '849psvj9six', 'hnxg5rbhbqzzeight4', 'zzsix45glphncrrq5two4nqrdsk', 'seventhree5qpfour7nnbllpkgveight', 'bsh78mzxzhhseven8', 'jllhfive7sevenninebcmninet', 'nineseven4pdkfpdzqpbzgt', 'sevenninetbthree5skjmeightfpjrq', 'nxkv6', 'four59', 'zrhcvb6qlctpeightbnphxmlk1cjzdbl', '8mtgqjthreenine32', '6slj8zqbpqmr5', 'rqkvxmqtkn8oneckdxtqvxcthreehngfdqqsseven', 'nine4nfqpgdpvx9fivethreefourfnhfjmfzqr', '3gdxbh2gbm6', '72qmrrqbsflqpspdp9ff8two', 'xgbphtnjfrg5fourdfmsmqhfp597', 'bkkpgrhj8hlbsqmjdjqxjtjkrgppjgszpmm', 'five71', '9rmmf1hqqsmdrrfour', '7ninelflmvj6seventhree', '172', 'tfhqv1', 'jfbtwoneninenine6dgxnqjgsteighttwo', '4dnvfvx', '37sj6three48nfjtclz', '2two4fsbbmrtnlqljqdskqseven', '1pnpzdr3sevenfive', 'fourrbktzvtslxjdz9', '47six', 'jgcrllvbsvnrnmqfppxjfournbmjgp36nineb3', 's6fgr4four4', 'cmpvp8three7', 'xjqmgdrvtlv5xmcpnkhvfhrbjzx', '117eight', '9snnxnrccnonepdbfhhqcnpsevendsffjsvknpvmkdxp', 'rgsix6rqzsix8nine', 'nine8two', '2clfqtxkztwo4twobjscfzptgn', '6s5dnfkpxts5five', 'five9cst', 'eight71dmbdqfgtpvj3', 'vdf3fjfsczlvvnine3foureightfivennhqmcdbdb', 'two59eight9', 'eightdkfmscfmzrk7ninespg9', 'sixseven46seven', '493djtvlhsixnhnts1sss', 'ninepczttwothreemtz3three', 'fivezlfjhqnknnhdfour8eightninetwo', '4ngvsvfivemgthtlcczfbjq1ngxvsbmt9', 'sixcgkmnd2', '12', 'nkgbpqfvvb9threesixqgqvjgzdxm1rc', 'five7seven', '2seven8151', '86eightfivethreebgbfvr4', '355', 'hgldv8four2dzmtpdsmck4five', 'ninemb7gtqzrpbt31fourndtsjkhv', '3fivefourghlmgfhninesbtcsqone32', '7krkptwo4qmzhvpsixthree', '74ppbsmnpfthreefivefive', '9four5zdkprcnbtl6', 'four3seveneightbrmdbcxxrk', 'twothreerdvxmqsbtgtszmxr4eight9jzbxpfstc', '73prc73six6three1', '9fivesix5fivepsg', 'two98two98', 'oneseventhreethree4qvjtzksdsz', 'tnbsgjqdkl22', 'rmlbp4seven45', '9dpzqbds2pffivefqrchvhpvjbtnl', '79hdzstwofoureight5bjs', 't2', '4pstpbdkxblnmv9nzfzsttfgfivefiverrtlmgj', 'zkkhkggtthree3eightseven', 'd11fourzfcnmzbxgbpf', '66six53klhrdnbtp85', 'onenineonelsfhzbkjgsfivedhzlfcvh8', 'jdt4four', 'bgfzvxthreeonebhlqjbprf1', 'sevenfourktsxkbbgt5', 'mmqffp1', 'vqghrsgxpsssix2jxzvdjdconeznlgpxbqdlsncrsix', '5bnzrdptseven8nine', 'zqdklqmjjc2rl8jxtmsixxftvspzlhfive', 'vmn9', '7mhhcftwofour21sixvvhlmspeight', 'blvhpfour354sevendrllsfivexmt', 'six5fivetxrvnvftfvgcddshzktwo83', '3mdcpcj', 'zdtjmglv8rkgpfvninethreetfgmx6sksteight', '48five8mnstwoone7nv', 'cbpvqbddlllczgfmninenine3zqvptoneightx', '1two2', 'jxfhzr35threesixlxghqbqtq', 'nftv7sevenninetwo2seventwonnkbvqnjjx', 'eightgjeight6f4', '2fivessrktznhjvxmghnlhbmfseven2two', 'onedhvdg82xdvgmhxzbqrpzlnfx4', '17nzhkkpchk9', 'dzccfzphmz6sevensixeightmcvxsthree', 'onettfmvfhgsix1two', 'eightone37', '2onepdnbrbxk4foursevenzrmzmvqzgstppr', 'five536seventhj96', 'nlhqljfzmb4khqtjh', 'j8l', '2kpmrhmhonefour', '2jblsixkbblgzbfprhbjnrtspcqs', '6twothree', 'two19eight9', 'fivexbrjpnhhlvdztthree9', 'jzlmvxjn9oneoneone', '2cnqphtdjgdnhbkseven2fiveninefive', 'threetwonine67tqpbdfhfbv', 'smgr56slfpdmfive6ninehmqrck', 'fqqnjqpccjqt6six75lpfczmnine', 'bq2mdxchhmbxfzzkqgsixrbcpklpqnxsvnbthree', 'eightthreefxxssg8cx', 'lhlc6', 'nine6onexmvlbtbxznmrztnv', '8fivedlxzgxxflbltteighttwochtxlfjx', 'seveneightfour1three4gbcnnk', '8fivejtxbpvmpxoneninesixzdrjhtncbnkgpsxqs6', '1hxsxn84eight', 'sevenseven71phgltmtxq4', '8fivepcqthree3dn', 'f6bbrdqflknp', 'fiverpjbb9rjbrfrlrnine', 'zfqpjjktg5seveneightfiveltvvtxdfk', 'flhnczsbx6', 'tsqlvphjmfourrcqsjj7four9six2rnz', 'fivedmznjqtwoqmone1', 'eightfllck3spsfrgz92gmcgkgg', 'tcrrrztsevensixqthpdqgxv91vvhbsqgzkq', '22pztfnhh554qdvzjxnnzzrj', 'tscrkt4', 'fzmsgmzbz5', 'rxzsnjhcnkthree8eight', '9fourdhjpp2648', '4chvdrvtgqgbzhcxztwosixsixhnqknqmntzlltqncdxddnjlk', 'xbfk2cr', 'hrmbslbdgnine8nineeightseven8one3', 'kmkdhbonesix79rbshvkkvjnzzq4', '9jrz26', 'seven163nine', '83sixgvhjttnhkq9frphcqrng', '8five3seven', 'three16xqdzlkqjjtf', '5fiveeightl8veight1pxfptklnhj', 'npllktfive45nhvqjcjgpxx', 'hbfr9mm', 'onerbfkf4threeone', '7eightone', 'eight2kmjlsix8one61', 'rvrnrdrninenine3zq6jqsr', 'lztlntnsevenpplkhkftq1', 'tfrrjmcvtbmktnxtxkkrcctmc33four5gfqpcjreight', '33rgcjxfsfqsvxxbxcnrjfndrrfmrtk', '3627837xhhb8', 'bmjhkkn4pgf', 'qkrsvjclp23', '5fourzllbmcgkxsevengkrzkpvcmvgtxlrv6', 'fivetczxxvjrrqfive1sevennvj6one3', '']\n"
     ]
    }
   ],
   "source": [
    "# Parsing text\n",
    "\n",
    "import re\n",
    "\n",
    "file = open(r\"C:\\Users\\ASUS\\Documents\\3 - Portfolio\\advent_of_code_2023\\day_1\\input\"\n",
    ", \"r\")\n",
    "\n",
    "input = file.read()\n",
    "\n",
    "input_list = input.split('\\n')\n",
    "\n",
    "print(input_list)"
   ]
  },
  {
   "cell_type": "markdown",
   "metadata": {},
   "source": [
    "### Deriving Calibration Value\n",
    "\n",
    "While I could write a regex, I would rather take the simplest approach and iterate through the text file, identify the digits, and append them. Then using this, index the first and last digit. \n",
    "\n",
    "Initially, I was going wrong with thinking that the challenge was after the sum of the first and last digit, when in fact it wanted the combination of them. \n",
    "\n",
    "So for example if the string was \"1silly7\" : \n",
    "- I was solving as 8 \n",
    "- Computer was wanting 71"
   ]
  },
  {
   "cell_type": "code",
   "execution_count": 112,
   "metadata": {},
   "outputs": [
    {
     "name": "stdout",
     "output_type": "stream",
     "text": [
      "54697\n"
     ]
    }
   ],
   "source": [
    "# Part One Solution\n",
    "\n",
    "sum_result = 0 # and score \n",
    "\n",
    "for line in input_list:  # for each line\n",
    "    #print(\"the line is \", line)\n",
    "    nums = []  \n",
    "    for character in line:  # for each character in the line\n",
    "        if character.isnumeric(): # if the character is numeric...\n",
    "            nums.append(character) # append it to the nums list as an intiger  \n",
    "    #print(\"the numbers are\", nums)\n",
    "    if nums:\n",
    "        sum_result += int(nums[0] + nums[-1])     \n",
    "        #print(\"numbers combined: \", int(nums[0] + nums[-1]))\n",
    "        #print(\"rolling total: \", sum_result)  \n",
    "\n",
    "\n",
    "print(sum_result)\n",
    "    "
   ]
  },
  {
   "cell_type": "markdown",
   "metadata": {},
   "source": [
    "## Part 2 \n",
    "\n",
    "Some of the digits are actually spelled out with letters: one, two, three, four, five, six, seven, eight, and nine also count as valid \"digits\".\n",
    "\n",
    "Recalcualte the calibration values with the above now included as valid targets."
   ]
  },
  {
   "cell_type": "markdown",
   "metadata": {},
   "source": [
    "Notes: \n",
    "\n",
    "- map designated strings (\"one\", \"two\", \"three\" etc) to equivalent digits (1,2,3 etc)\n",
    "- identify and append digit if string is present \n",
    "- sum_result calculation is same as before\n",
    "\n",
    "I do not know how to approach this, so the remainder is me learning how to deal with this rather than coming up with a solution independently. "
   ]
  },
  {
   "cell_type": "code",
   "execution_count": 107,
   "metadata": {},
   "outputs": [
    {
     "name": "stdout",
     "output_type": "stream",
     "text": [
      "['zlmlk1', 'vqjvxtc79mvdnktdsxcqc171', 'vsskdclbtmjmvr76', '8jkfncb8778', '68dbfrsxp', '2zpcbjdxcjf1686', 'zqmzg53fdnlhp88798', '5916', '66zvdsprdqlf29', 'lqztrmz28dg', '461rv2pfhm', 'plvzrs5', '5282gdnc918', 'pskjsrchjpx1199654', '542hhtprpjndm4', '6qbdcfdjsd1lmldklflt8', 'gctgdhpkkj9kj65rkqg8', '86gcjlsmzt5', '5chvmhmfgl7xkjfdpdbp', '5tpzpnrgpftr9', '31hqbzktq1', '6855244lvgxgdb', '9jdxljkfqttstqxdzdsztsxrfjbkqmmsqz7', '2stcllbpnd2157', '8525tjfvsxzs5kdkpxgxvsfhr7', '7lvrc2556qkzdkr4', '45jjpmnscmmk', 'lhxgbfjtcknpvz6', 'tndgnkcqtjbrzgbrfjr35qxlktntz3', 'vqb638bdt', '1887418', 'bcmqn91cnrzhsrsgzggzhtskj8bz6khfhccktw1nrj', '6qmgkbkmlx4prhxrxrds8', '93479', '926zhtjzfmjrt8', '15rrxdmvfvxhs7jqzzqpcflzt75', 'pnjmlpbb8skgdf61', '6cpzqzfsjtpfq135', '484', 'llfvhxgl563n736', 'jhcpt9rq7fhzbnhk', 't35lrgtbxxv1zfmdp72', '67jmrxfdmfbmz6kzghng', '63fdbzhslq12747nlnpjgsx', '54zrkfbfq', '67rfpfbzbghxcnxlnfjkz97', '8d4sm338cz', '758168', 'dqmvcbdclx23653', '858qgjlcvflrggndskff', 'shmmk28', '938dtgcnhphv1', 'gdtdjgggtj3dgrqsmvfh', '13pksbh323', '9kkpjrmhmmlzvqngnhf21xjqmn5', 'rl7blrvrk7', '99hqmtshkjdhs', '93fdbrbnnvxsktggqnjfjk7brsncmxkcfzhm34', '2482fbkfpxtheigh2vng', '287463cbf57', '8449', '4894ptmzvpfqxhrzvrpjhfsdsvlhbht', '7756bjf', 'sq3vhmvbgxvnk21', 'ghp65731', '7llnsgdtzbxjbbqcmxfhgcdnp231', '8341plsrfvqf', '4661', '272fvlssjbsk8j', 'njlllqnrvx84', '51kcngbbmpnx794zcprjp', '7527knzpxtx', '88ljhtmnxpjhxhnq21rjddcbj', 'mzsqh3653', 'deigh2885', '9427scnj897', '2gcrkr45npzs774', '8d27mj32', '9zkhqlcd3', 'ctpncdkcm1h59', '6r27rq9689', '7m16gshq4xqdxqbhcl', 'zxxnrpstkkmnhcc6', '3169lsxrbkpn8', 'jzkfvrtmctjz5', 'sdsfrh49', '48576', '9655537', '423zpvxnrg5sfzctbtk', '77pkfnqggvj3xtfksczdd', 'xsb6ntlfzxvlxrkx17kmnqxhcdnqkdzt', '6sbzfqfdm', 'lrfjxppqbd794ntnskpkdq865xskh', '98czzcq', '696cmcdpz2jk6tz', 'jbpfbqfdd64421zrfm', '9jfklkpcf55phpzqvhrtcqvmxvmgljn8', '3296jglqzqzjnlsqbnqnzsb56', '593', '48635', '6txkcgtn7gtsxgt9', 'lxdtnjvjbgxpnrft882cjqfdtrk6dm', '2353', '21qf4', '6ltxhxcd5', 'rlrdkzgnk6mnsbxfkhh', '41z4nzcqzjqrnm6trrbg2', 'tbn662mptdjtzkxfhlflpcdnbmrbctjscxq6qtmjmkpfk', '1vqlkjtmj8cjzxnzscczqmxcpvnprh2', 'lznhcphkdmrhp96344', 'fggprsvtgmbbtlk14xkrnbcjrdbrsbdltfztm2', '6rqlzs34cdlzmx1', '27zpbgsxl', 'lckblpljvv52755gttgmvcpmlhltxz', 'bjfbxdpvnj5813', '174', '89zhzrgg6crlpggmt441lhjcqtblh', '78871shvkcdhgfmxhn7dzccsdfkcx', '7zljpgl2', '612', '4ztcnpn8bsbzfhdhgkjjs3', '1pthfrh9vcs97hljhmprhlsjrr', 'vlnpmqlpj45', '23q4lqs934', 'hshd77', '8545644flrzhrxzlr8', '5187', '72xlbqkhtflqtsfhrf1vvnbt', '159326', '2sck1n986', '666729xznczchmx', '278', '763', 'ztlbbnc37543', '88r6mcrcgrz51', '89s6975', 'nhx835254rvxqhnpeigh2j', '8576zr96dlprzx', 'lteigh221327711', '1516ldxxftf975', '645j3', 'sjmjp99', 'bprsznhxztpp51', 'cm5214', '6mgcffzzspll15djs17', '9qjcv4qdtmhlqzfxfg6', '645523zkpxmxsgxtmg4', '312472kvztxqdmfxhrxsp', '39bnz3dfqvm93kqmxpsnmb', '8nzfbcmgh592', '9146', '756', '3bxxccqzdjs578lhtpbl', '5zdvjxsfvcptngh5', 'vb1ight4617', '7889krfhll3l9', 'stv4816cfv8', 'rnmjpszvx945fzsphkkftgxpsfhvthsbv', 'zmntmkcbgr2nspdq7', '5ntxnjclc86', '86585', '6968qjnjfbbtlmcqv3', 'hgjh9vhtdtcgkzpltnpxfqh67kq', '647c9', '96z6299', '7738', 'ckk9zdnkjvskct', '8flk7', '88hqntfrh', '8cthrxbjlxbnqvqc496htsltqpqktqnz', '31325', '245', 'rlggcjdthj39', '1854', '7hgncfjn7127', 'kshqgsm3pcd518', '8qrpbpbbmzmbctsmvtdd1952fttd', '52qvtscrs133257', '69dcsrftd25xzmpxdcc93', '3773', 'pppkjkgt3', '7261ctmmjvdgj8h9', 'xkpk35mgmrfph', 'pppg569qxs61bgsplgfhqp', 'cvjq153sqqtpczr', '395', '2ldjbdxnqncntpphxshb3767kfqbsqhlkg', '9lfhbgmcqnhhlvvpvd237', 'v7gj', '23fvgbbdjgst8', '63frmpq', 'zrggq26sqr8', '5rdrxxtjlhzn97fxsqpxf', '7lpb2sj31312', '46694jb67fnr', 'lpbgnkhkkb9c83', 'spvkzsth42', 'ljbrlhtkxfkskvdbgxqmmjn39qmqtffk59', 'h1jmxtl591djqrsnpqccvzmdhsmxnqrjlgdlnj', '837', '11561715', 'qbjqnf7mls8gdnr66', 'jgpz676pxldgpcvdcpzn', '8nkdjhgrn', '38879', '99lzzrjqpk7', '756', '3bpfsn33', '4tw1l', 'pjvmb14tzbz2tp447', 'zsl41pkklkr6ncvjtkn', 'h1ight3', '67stfffkjg', '424ktbdmzstcgmdtcgbhff3', '227', 'ghvrgzj661', 'vxjqk3xhlr3', '3tgzkjslbdrdxgfzsd3lch889bxhzf', '6571', 'f5', 'qq6lkvlmrn793', '84964rzdnnhgd67', '4vttbd5sgdnjsvsxt6', '765', '6czbdlfcfkvplmcb', '7152', '86n81', '65lttjtcbxmxnz', '326928', 'dhcztvmmlllg84', 'btdjgnh9vjvlqfkznqr635hhcr', '2jvbxc49', '461mp29974', '16mdqkzqtgz8799', '4nnhfkrlmfp7', 'blhv425vrlqtqrlpxgd', 'kptg48vglvjdcz5', '5599msgkplgqfnz786', '3tnfvgftsnbzksnrhtrtlbfxcfqfjgnndlmfvkqvhcmgd2', 'txvjfglxtb53zpx19', '6945', '547', 'f7mnfskhckvfszs73rnjqjhs7', '95knstccb5pgpt', 'kmtjfxtztqnrngxxgcgh1kdxpdjzspz', '22rtcmvpbzsm4chpq399', 'fzt88lvn1slhjmcrqrg8pzvszdxzbp', '149szrxcjvtt388', '8nqbmcs39xf7', 'fvvzvpmsgrrnhjksf8l4', '7msxhtdk', 'jgtw1263rvlmxl9869lbqzxpqqn', 'nvdn6bdg996', '82rxtf', '9tdqsdpp771', 'tlbbxv281671bhghlhdpfh', '31thhhlmgfh7', 'n26', '538', '15585', '35375955', 'fhvxvtjcnn3stcjhsdjtc1hhmk', '61jmgzrklbxrmzshpfgnv94hzfd', '7376', '259', '5vnpmlzvvp118lbv8xzplfttx8', '93776432', 'xkgtqqlcdr51bgtx', '6pddqmbb51hbmjfbpqx33chgvdkghhjhnxl', '789sdcq1', '99jbcxzp', '32261', '7851crcqrglql141', '493cllndctl9crdx7bhbqsgtjnchkmknpdht', '7zfbnvg5336', 'tvvjkskxgv4xhccmmpxqx8mtxmfxmrc9', 'ptnnhktxxn2qrjvmddszgcftlpdfvxcpkm', 'mb1ight8lbjvvfzrl8qgqf', '72mjfhzl', '7drdvmx293772', 'z1ight68nldnvhqpbd5', '29c', 'kzfkvqqs29smlcrg5735', 'vxcgdz24ljhrhg66', '13953xtr77', 'djdeigh28c2669', '82727731', '3gdtc7llsdlftdrx', '581vjcbpmrzlp157jjcmlrzhr', '78684gg69', 'zsh382cvkl1', '36np', '9tvxqtbpf7717149', '733gqfpfqmhsfxqbqbnv', '8rhflhmhtbm', '21713lgfmpdsc998', '33stnst6xqqxvxzkfs7bzktd7', '46ttbnzlfnsjbc', 'bsqxtvhg3584873', 'ccntw1dsjvftmf284bxxt5883', '39mbphrp4113hnjvn', 'bkm21z6xxdjvnxvxjr28', 'jzt1ight8gsmnjcfvk', '6349262', '99dndgmkcctw1ftn', '87pkzcxqhz5ppv9ksjfhhqgm4', '2ngrt2zgdsrdsfq5ftgsq', '4dnmxjn59978kxkkp7', 'rxnrnqvm98zjxxmkfl1', '31dkm21', '6tttkrtnhgfzx854shlcvhr', 'nffggbxmhkpcppm8kjhktmdvlkkmrffdng254', 'mbjm445', '6nfqxlhklrm47', '26sqtsfcl881fdsjxvbgt', '9bkkrz9', '5dzpnp1', 'cctxzzjbhgttmszdph16q72', '1qnfxpzfg2f8', '5gdj3shgqvjd623gqp', 'xdgxsrshddmzmhkhznsd341', 'gmt669xxsx1732', '1rttbtsccr', '371fdzqvmbns56', 'nxqxvh641385n1', 'sxgmkrzmbvn4655566', '363pdjs73kgx2', '8grzmhsmk3', '71htzbglcdfbcg', '5nsjsnrscz1zhrvjmtg5156', '241', 'dzl41433hbbqnkhn', '1bsm86', 'xh2', '8qmdb5qv2177', '51432lrtmm12', '327', 'vpcncrhjxgcs379952', 'mp1ight9glbvgrff', 'zgzzzpfffn8tdcplkbfr57', '799mfn8', '3ddrsxrmbzsmxkd58', 'pnxtxmfrpm23', '1rktgpv55', '7926hnnrqklz98', '5915vnrpsj', 'rfg7szlxn8', '9jhnzpnhkrlqc855', 'tzcgzzx623qfk5dffgnp', 'ceigh23rqnfl54dfbr3dntdchg9', '6nfmdk363kgvmrz71', 'mcdbsqnrzc121d38jfjdblk', '483jtdnq', '3rxnrgzd9', 'vmzgfplpv8fnc24pptlb', '96qtbqgjvqv138', 'cfnlshzvczgvm115', 'gsskzxkgrbzx5pggzmsfh2trsvmttzdc831', '37frc7vzg', 'dcmxmg7d2jlbtfhkr8', '62nzz89txrzlm', '9pjllhmfgkvs663qmz3', 'ctjksjbbdn28', '39555cnqjtr9vpv6', 'jlbj41nt7mlpqpcvqcmhfhvqjqcm2', '2kpvxg69', '74mlsbhzcmjf38', '1khfjhp34rh', '96pfrjvfm8kkjsrhttxsslh2eigh2vvg', '429', '4lgcbfptfz459858kqtbt', '56xqggppnl7', '51zv51v', '51qqk577435', 'kqlkrntrcfrh29sccz88dbqmfhstnzq', 'ghdjlnzmskmvj8nzmpbjg161', '38jrhhmfn534488', '9879kfzh8', '3299', 'jg23xvlkbvhrss27vltrghkljq1rkzkls', 'vrc42qlgcrxf274', 'sxzkxpvnh676tgptbrpnfthhnj15', '5rqqntzlq11', '1p9762fh1', 'ttght358bqm428', '2pmtld261dtsklbcbjh1', '47thtdcsmc5', 'xqp75599g4', 'mrjpmm4crgk21273', 'qjpdjb1', '2447qtcdhxjp35xxx', '7vtd7ttvms9rgrgdxbdqc3', 'pgkqpltdzc3mzrsrqj4crghhsfsjcqtmvxq4', '31xfrdvr1nblct7dqmmzdr2', '83268', '592zj42', 'qgtjgmrvfcf4294562', 'zzh939knzkvmbxvm545lrrgc', 'f1633', '765tlhh1tdzrkhjzqz7', '1ldxvj7985', '72bcbktzsjpp', '2kxqxflk5527cflfdfvsx56', '5lvhclqxtf', '17682', 'vfh8', '973xpc2jkvmgkqc62', 'vvcvzfb9472rtlnl96', '7589498tbtjqfpgp', '7154lbhslhdpsb23vm', '466397158', 'nrqxrffqbp15', 'mklsgg317684bnbfxf', '955klpzgrccnxvd963', 'sgbqgrlqr88', 'jlvrfrskmlrdtdpr4481xccgtcf', '553k4hsmqjq', '56pxqlplmtvcvjgtbk', '37941', 'nbr319gx8lrkfvgtzh2qvnfb', 'teigh2972hrdrlgn5mpbjrxprpkjxgdkghgrgb3', '7nzgktdsvkjlqdl1rgplcdqvv', 'kzxttx357jdlqz98', '9slfgkbdmq24nh5952', 'tkbnjhjr5kqqxsjl81', '723kh2tggr1', '1241xcvkxbcv145zs', 'j7ml', '88158dnxhddzstmfl8', 'mtd37583fxcbcd7', '258', 'zkmvsnsg9321mtbzzg', '4tgzhmf9', '3xjqtqzgzj4kvdtbpjv', '2hmnpsqbdcrbl35347', '22lpmdnxmcps84ttfrhzzx', '1gqsqrhx228cxmnxvzs53', '287926cjmkzjsl', '9gncpkg', '65184kmqbrrkkrjzmhg74', '9bhxxz73sglvvpjmc8389eigh2md', '164cndtzcrdrxfzgnvqkvd135', '43sjlrhsrthq2qrxkq66', '2hfbqjxmc341613', '4ngvsmdvm', 'xmhkgqdnfbdxcxm9', 'lqgxmshjzgggj9jsqnv961', 'vt2znbmq161gjppfm71', 'nvdjzzlspj388', 'qzvtw11135k', '8lfzts9pxfstsxt3437', 'k6', 'zm82', '3cblxxx33232', '266csgnzqbttjdzqs391ightdr', 'bnjzfkmfh8ndfs62pff8nctdvdqk', 'spxskgfmtgghlmklqzz6tdgxnbnnxfmgn57', 'cqrlmd62gsh', '6rmrzkv4', '916dbtzrtsp86zrhjhkrhvsxktbdkjcr1', '5pvhbxqdvvqhl3jqvs2', 'lmeigh23sjrsqgsv9', '782928', '59681vzqtzq8tcgpbgthzvlcld', '51ptkkdnzhgp', '7jkr244', 'xpzvfcdv1jvbd5mgvchdbnd9chlvqkc5', '273ctsxpfd128', 'prqbfh347cgmhkmkd12', '15783gqcznrrxfh8fvkjkssbch6', '1vg683sztxzjkgldmqqbrm3', 'jjcpp1jtxkmnmggt53', '6lsqgmqkjjzrpqj3dgsrpdzj3mjkdqhpq', 'slxstv57nfst', '65ntqxzhxk5kcdbhrkx', '7jqmfmbj46cx73xspc', 'kgqjjxfkmhqtf22htnvmpgxsztbb5', '9qzgzsscrrfngnzks41', '93rq4rhnbmhhs179', '688mjb358', '3xhzqqs2kjdqvjr4', 'z3k2rvbgbqzbpt', '2156', 'c69492', '8698tpjcxmpln', 'mxxfpjsplj3msxqdnnbcbbqxfzs59cmjpzq7', 'c9965372', '618838431', '6zdtsqkplv41jmrk7qkgjpkqgmmqsttvrhkz1', '73nvbjsvbshmd4sxf5qvvc2', '2227lpmsjl4', '6c8871psffhzjdjrm', '7328', 'qpmpfdlr7', 'dxtzmkcr65', '651ptbzdxcsq7725', '7bdmgtzdm22781', '146ck31n2', '225hpqhmnnjb635', '15238glqdbjlgk7', '142kzbdzv', '8mcv71658kkxdqx', 'bgbvdrf6fqqvnlptzrqkhgmt8', '371ightrmm', '31fbtvqchj3bhxpvlqcdqh', 'gjc9rcqpvvzdfkcdcfv2', '134bgntvtnxmr', '8447zdxvzfkft', '146', '352748tsxflbcqtn43', 't712lzjkfdttfklsdzrrflnfxfgvlq63', '49f192bhppd', 'nzcvxgjqrsfqgkktggdl95', '57thz', '33725', 'zsbc65cqvlh2lq1', 'nns1ightd96rhckhj23fjj4', 'cj1rbxlggxxgtxxbmtgfg62', 'vhkgpz4', 'nrmsk81962clhcjkcl9jk', '1jvdcrf96hbv', '78355', '16279', 'jcqknvjppbxsphlxrrcbzmkq929', '24vgzhnq', '2693rdrkfjkqlllx69', '771vkvqhvptbn', '32szxlxdc5zlrtjdqpt5', '975hzkzvd73lxt16', 'vdbgshtjm8grgllht4qhpkhd4', 'mrvdgqvs83jtzfdspdtrkf', 'kcg221lcpxlg', '2xlcjcxzczt', '1pszcvn12sxmcbdxznp8xvdjjbgrjlpdv', '4bsbkv91638', '945551', '971gzq79', '3388ldqcgtbd', '267142r', 'bbfpvdsvf452', '767l97hm', '245', 'xxrs931ckbg34g', 'qhnht4', '972399', '93pr85f67', '18qncpgpl', '5868jr2', '2cdv9lrtsbcdtvz62pkzm', 'dmhfljxqx8xmbprh2', 'rr5', '522', '3825', '4rjqmbdtxv422875', '4b3496', 'f3199txtdt5hc7', '113', '28xztclpbvkp', 'bkxvnhhn69211', '1273xmzg', 'lnzp954eigh2qpr', 'gnhdcgdmv399', 'vlxjmdc156', '91469', 'ktdkztzmmcgxslggh7dhptrkgfbq9324', 'qfczhgjnt6', '34rzmt', '13243nztsmbqmtldg1nlc', '2969xlffbvfntz85', '56trqbjkhjfmrlgpcx7', '3gz9chglg6', '9tq', '1158284ngrh', 'hrqhr851lp', '134', '28psmqcb66', '673xxczmccll', '4mmlcgbkhktbmrp53', '27sztxgmqdvn5lfcpzjsx71', 'hdbhrqhhffbgjxvdpqk67bn', '939zmtrgjqbsp74', 'gsljpvzxkq9', 'zbjzzrnkb8714', '45232rh5', '155cqrh1', '1tjd8', 'dvnlk78cbvdrccmmx37', '8786', 'ffjlhcgxp97plmttszkvj7jvtsg7znl', '1214', '3tkqnx2bvbmzj4ppkdxqtblszmxqhqbv', '57xgcgqnlpkpnfmcnkbfb827hpht', 'gkgn59lr58', '64973szmldmdd', '9jfgcslbrcz', 'jrgrnmntm2nptz88966', '23881xtjdgb', '21664ndjcxmmbhfcq1', '5bmfnt76', '5832663v', '76dzmhfrj1bdqlqh8319', '926', 'vqpg91hspvdg2l', '5mbzffnlck21847', '699nbzrgd8', '1xqflrlvdmr69nbl1szkf', 'vqmlzjc1d3', '3724vbgz3', '29jbbxhdfnbqjddj2612', '59296941', '1vzn3dbtjtgxhh3674', 'zfkffkjsz7btqgtm1lqv674frjhrkbjj', 'sltlg9659gglpc899', '273', '4brmdvfbtnnnhr1mnhbz298', '96sl9', 'cqkfp35hzrdlcpcsjhssdlnjv', '6427325', 'zkhjblqjls59kbxzhjmnzrxbrrj67jdvljbh', '9ldrjmjpq84pnmcfvg3b', 'l18', '2164gskrlfkxxdhbjspmhg', '4hgc82152jmbmjkjb', '68zfbjxfck56zrpn3', 'vbrbvv6', 'jfjkvxcrbjhztvtmjbp15261', '3xvhtzgqpn4td', 'x344', '6897317rmx5', 'ptbndknk2628cv77', '574174', 'ngeigh2pgdtlxjgs3355sk92zgcmch', 'pmfjgxpg6946', '5hlgzgrxhxxqt8', '193', 'gvdhxthjxnxv7dtz994', 'jrtw1hzddmgcjsn6rzldcsfpqs8866', '545', 'jn6', '224', '56795554drbh', '3676kbphcrst9', '76svmjhhkrt73', 'thgzhsclsptfqfzps94cxxpv', '2118f9fdctxpmtk7', '7tpxmbxcl9', 'cghxxdnnf7vmvqdfhhxz96dgt', 's1ight67', '7ft33qdhxjmkgd6vgfmb', '1365lzjzrm', '51dknfvkphltcxnsvxpvxlxldxrqftcmqvvqx6', 's11tnmqklzvbbctjvntddpm3', '99vb', '8523qnhhvn', '87fhkjhs8485', '116zczvlsmhb47', '3zt7', '7tjjbq23', '7v189cpvmrn81ightnxs', '13hlhxjj28', '687243646', '8zlmj2zr8bflxtmdbv', '128zn1', '728vlxkqnpjb7dlqrmnht517', '4383', '5658sxrvgmpshv17', '7dpmrq811rdfdrx', 'dtmtpgjll136dbcjlrhzrdnm7svlrdrcngp9', '5dl9', '94c244', '79gnssldmnmqc', '917zdvkpxxsfccmb', 'n1551rsrsxpxnlt1lxtf', '6pl9nhgm', '51brpphslhj22stjrkphcgr5', '5tdhlrcb2zdsfgcdnhv675sdjlq9', '4447745njdxvf', '674146', '69ntdksjfkdvhkkxzrgftnbjmfsjgzd', '49rpvfmf1tcnhk', '1ksbmzccfr85', '3vqr', '9gqbgv87hggnxxgrq3', '64471r5kcflqd4', 'mzvqrlp169', '793gqjmqrq', '6vhp812518', '5dnsxqrb32kdzdbdcncm', 'srcmzlkr199gbfnfmxjf', '82lmhlhmtg46nbljxrgjb396tw1qhc', '6pctdhrmhrgsbm', '7hgpfqvkh5351jdkqz84', 'hfzlmldpn9tjtlpb', 'phccmtth166', '34brzqzsbnth1', '11pssjfqk5bmprltbvm4', 'gmtc25', '12lj452', '9xjrzf1hvntsmnzx2', '4g746jpxvrbzdm7', '676436', '89gddfltmdkkml8qbzppmklxzgpnlg', '7mtfmdrbcl9', '3cpgvjgzx695hvrxbdnclfgbvf65tw1lv', '8klzkzxltz15', '377bqrbsdk1836', '27lfqhm4', '2111vg9rr', '1nzjgjxlmtrgbt841nlls', '7rlgkgr65', 'nmmpl6fc7ccg8lkvpvqplz2', 'mzbxkmfcd896', 'fbhzskjt473jrvfjhqsbc13', '5376', '866', 'n9', '39mzpjqpcpv942496', '89s47', '2pbsbvdp96457qbbckmhxgg2', '5ksvzfbdbgvnq1hsgtvgkbgjkzggsmpvkxpxtft', 'qeigh22368939lr', '5gpz62835', '194jctnldrqlghx', 'gtw1tbqxnvxlz23', 'jdvmph5fgztldh2xhzk', '4gmhflfpxmbqpt8jdxkntnchmtkgqhsg3', '5275', '564', 'mdchltjjqm57', 'kn6glgjlsp85j', '3vsblvhkmt7', '17rmn1qqgqmcvl7225', '8jbmnzngtx632', '4gdczfkvs31krcm', '2prvszkhl9', '967mqtxbthtfxg2f', 'lrcr9vgshzsrmj9336', 'bslrhlvp349fmlzb', '3nzqmndm7hxzrlsxgmt', '48jtjrmzvtct', 'pzpthxqxs9pjkhxc6gk5', '8bdvrcsg2tgjkzzj', '2181mlgpgtdg', '87rxksglxd43lhst', '488791', '5qszbfmdv8x58', 'sqqbhtk395mqzkzbzlxlhd2', '881', '63njcjnbhpt175fqhg', '43569pv5hmbhmhtrpl7', '54bfnzx5984', 'rzhqrxfhpf9769kcjhxv', 'nlh344lbppcjdx37', 'hntmdckqh1jmcfphrr36326', '877144', 'nkhfgtknbj6zrpppnqs115365', '95xlvfqm453', 'sscctsd4kppsrd684', '892', '11ightfs', '2hmgrqgjznhh1xztfm3v', 'jvpzlqbsrb3', 'pszdpm3', 'kccl2', 'dzxmqpg563387', '9nqfpv', 'prph49656', '57vbcbcvtbgtqmktjscjbzfkjgzzv7rspqlrdfsmbsvbmb', 'qxqlzm84hzvctqsxczg4qggztsnrzz', '7978rzgzhksz97tbrftfllmp1', '2vdspsvmftgnfjdqgjpv92qdqzcgr2', '6979cxzmvlczjf18', '186', '42324558v', '69551tnpsqkr42cgnbrtr', '362ksh', 'dpbbkpxvd4576bncfnkbl83', 'bxrbglhfcz25', '83353qjg549', '91pvhrzcdm9lbqqgrdmggzkqzvhnbczrhhvjz', '3rgljppmcftqmqkqbl', '93qjrjrg7', '4qtfn', '5744hbspnlmgsmxnxt5', 'fffctbhcpklfndj232239', '627xnx3562', '5772695', '7599rpz2', '151msftxtqdc67jngtvr', '12fttpqzzlk', 'zcndrqjs433117', '918', 'tdlbrszns4pdlptfvcnxqhx', '56298hvktskx', '5xvcnb69vnclxm', '94ptv6mzg9sk96', '4lfvvczdgvh8rzgkmvnk', '74nsvkm5nztmctpmngppzkphltpx', '46294679', '1155fchd3nksmgs', '6vnstxdtl9zgdvpmjjcxlqvc', '653', '7476rklqgljhdzzhdcqrqzpxmfftbc51ightjzg', '438439554', 'gsrrtkpqp714bf9r8', '6rvd224885', '489', '468cgbctpkq9tsxskqbhmj', '7294', '8jnssjzcgpzrvbqzmv533jmhfjcb2', '4qjrgrntbfzghfkzxvmj53pcrjrlls', '2nnjv8', '9739zgkhgmrc4', '9823', 'qtsgznprv336', '632rhdlrfstgxfmjjkn4qfvfjjz', '7ltdcgs83', 'bjctzmmbhrqlfzqgxbcdgdgprv92gjmrdclzt', '63lslhrbmcz96', '66gc872', 'zdrpnjj262ph6', '9rdxqgxtqrrgx3gz335lfc', 'lflcrscclg3518pmhhm1bkftvxqbmx1', '74rgb', '689lvxdqphkd6', '5zsbfj671', '4rflxzvnn', 'mjbpr4qjjhvbgn', '2646drctrdmz', '6mrzflsszvq', 'fcjbdqdnh1stglpmc6nmvggcvnrghcpcnz', '124484cgkvvnlzlb', 'kc24612', '5354dbvxmf', '849psvj96', 'hnxg5rbhbqzz84', 'zz645glphncrrq524nqrdsk', '735qp47nnbllpkgv8', 'bsh78mzxzhh78', 'jllh5779bcm9t', '974pdkfpdzqpbzgt', '79tb35skjm8fpjrq', 'nxkv6', '459', 'zrhcvb6qlctp8bnphxmlk1cjzdbl', '8mtgqj3932', '6slj8zqbpqmr5', 'rqkvxmqtkn81ckdxtqvxc3hngfdqqs7', '94nfqpgdpvx9534fnhfjmfzqr', '3gdxbh2gbm6', '72qmrrqbsflqpspdp9ff82', 'xgbphtnjfrg54dfmsmqhfp597', 'bkkpgrhj8hlbsqmjdjqxjtjkrgppjgszpmm', '571', '9rmmf1hqqsmdrr4', '79lflmvj673', '172', 'tfhqv1', 'jfbtw1996dgxnqjgst82', '4dnvfvx', '37sj6348nfjtclz', '224fsbbmrtnlqljqdskq7', '1pnpzdr375', '4rbktzvtslxjdz9', '476', 'jgcrllvbsvnrnmqfppxj4nbmjgp369b3', 's6fgr444', 'cmpvp837', 'xjqmgdrvtlv5xmcpnkhvfhrbjzx', '1178', '9snnxnrccn1pdbfhhqcnp7dsffjsvknpvmkdxp', 'rg66rqz689', '982', '2clfqtxkz242bjscfzptgn', '6s5dnfkpxts55', '59cst', '871dmbdqfgtpvj3', 'vdf3fjfsczlvv93485nnhqmcdbdb', '25989', '8dkfmscfmzrk79spg9', '67467', '493djtvlh6nhnts1sss', '9pczt23mtz33', '5zlfjhqnknnhd48892', '4ngvsv5mgthtlcczfbjq1ngxvsbmt9', '6cgkmnd2', '12', 'nkgbpqfvvb936qgqvjgzdxm1rc', '577', '278151', '86853bgbfvr4', '355', 'hgldv842dzmtpdsmck45', '9mb7gtqzrpbt314ndtsjkhv', '354ghlmgfh9sbtcsq132', '7krkp24qmzhvp63', '74ppbsmnpf355', '945zdkprcnbtl6', '4378brmdbcxxrk', '23rdvxmqsbtgtszmxr489jzbxpfstc', '73prc736631', '95655psg', '298298', '17334qvjtzksdsz', 'tnbsgjqdkl22', 'rmlbp4745', '9dpzqbds2pf5fqrchvhpvjbtnl', '79hdzs2485bjs', 't2', '4pstpbdkxblnmv9nzfzsttfg55rrtlmgj', 'zkkhkggt3387', 'd114zfcnmzbxgbpf', '66653klhrdnbtp85', '191lsfhzbkjgs5dhzlfcvh8', 'jdt44', 'bgfzvx31bhlqjbprf1', '74ktsxkbbgt5', 'mmqffp1', 'vqghrsgxpss62jxzvdjdc1znlgpxbqdlsncr6', '5bnzrdpt789', 'zqdklqmjjc2rl8jxtm6xftvspzlh5', 'vmn9', '7mhhcf24216vvhlmsp8', 'blvhp43547drlls5xmt', '655txrvnvftfvgcddshzk283', '3mdcpcj', 'zdtjmglv8rkgpfv93tfgmx6skst8', '4858mns217nv', 'cbpvqbddlllczgfm993zqvpt1ightx', '122', 'jxfhzr3536lxghqbqtq', 'nftv7792272nnkbvqnjjx', '8gj86f4', '25ssrktznhjvxmghnlhbmf722', '1dhvdg82xdvgmhxzbqrpzlnfx4', '17nzhkkpchk9', 'dzccfzphmz6768mcvxs3', '1ttfmvfhg612', '8137', '21pdnbrbxk447zrmzmvqzgstppr', '55367thj96', 'nlhqljfzmb4khqtjh', 'j8l', '2kpmrhmh14', '2jbl6kbblgzbfprhbjnrtspcqs', '623', '21989', '5xbrjpnhhlvdzt39', 'jzlmvxjn9111', '2cnqphtdjgdnhbk72595', '32967tqpbdfhfbv', 'smgr56slfpdm569hmqrck', 'fqqnjqpccjqt6675lpfczm9', 'bq2mdxchhmbxfzzkqg6rbcpklpqnxsvnb3', '83fxxssg8cx', 'lhlc6', '961xmvlbtbxznmrztnv', '85dlxzgxxflbltt82chtxlfjx', '784134gbcnnk', '85jtxbpvmpx196zdrjhtncbnkgpsxqs6', '1hxsxn848', '7771phgltmtxq4', '85pcq33dn', 'f6bbrdqflknp', '5rpjbb9rjbrfrlr9', 'zfqpjjktg5785ltvvtxdfk', 'flhnczsbx6', 'tsqlvphjm4rcqsjj74962rnz', '5dmznjq2qm11', '8fllck3spsfrgz92gmcgkgg', 'tcrrrzt76qthpdqgxv91vvhbsqgzkq', '22pztfnhh554qdvzjxnnzzrj', 'tscrkt4', 'fzmsgmzbz5', 'rxzsnjhcnk388', '94dhjpp2648', '4chvdrvtgqgbzhcxz266hnqknqmntzlltqncdxddnjlk', 'xbfk2cr', 'hrmbslbdg98987813', 'kmkdhb1679rbshvkkvjnzzq4', '9jrz26', '71639', '836gvhjttnhkq9frphcqrng', '8537', '316xqdzlkqjjtf', '558l8v81pxfptklnhj', 'npllkt545nhvqjcjgpxx', 'hbfr9mm', '1rbfkf431', '781', '82kmjl68161', 'rvrnrdr993zq6jqsr', 'lztlntn7pplkhkftq1', 'tfrrjmcvtbmktnxtxkkrcctmc3345gfqpcjr8', '33rgcjxfsfqsvxxbxcnrjfndrrfmrtk', '3627837xhhb8', 'bmjhkkn4pgf', 'qkrsvjclp23', '54zllbmcgkx7gkrzkpvcmvgtxlrv6', '5tczxxvjrrq517nvj613']\n"
     ]
    }
   ],
   "source": [
    "# Part Two Solution\n",
    "\n",
    "\n",
    "patterns = [\"zero\", \"one\", \"two\", \"three\", \"four\", \"five\", \"six\", \"seven\", \"eight\", \"nine\"]\n",
    "replacements = [\"0\", \"1\", \"2\", \"3\", \"4\", \"5\", \"6\", \"7\", \"8\", \"9\"]\n",
    "\n",
    "clean_input_list = []\n",
    "\n",
    "for line in input_list:\n",
    "    for pattern, repl in zip(patterns, replacements):\n",
    "        line = re.sub(pattern, repl, line)\n",
    "    if line:    \n",
    "        clean_input_list.append(line)\n",
    "\n",
    "print(clean_input_list)        "
   ]
  },
  {
   "cell_type": "code",
   "execution_count": 108,
   "metadata": {},
   "outputs": [],
   "source": [
    "#counter = 0 \n",
    "\n",
    "#for line in clean_input_list:  # for each line\n",
    "#    if line:\n",
    "#        counter += 1 \n",
    "#    print(counter)"
   ]
  },
  {
   "cell_type": "code",
   "execution_count": 113,
   "metadata": {},
   "outputs": [
    {
     "name": "stdout",
     "output_type": "stream",
     "text": [
      "54303\n"
     ]
    }
   ],
   "source": [
    "rolling_total = 0 # and score \n",
    "current_total = 0 \n",
    "\n",
    "for line in clean_input_list:  # for each line\n",
    "    #print(\"the line is \", line)\n",
    "    nums =[]\n",
    "    for character in line:  # for each character in the line\n",
    "        if character.isnumeric(): # if the character is numeric...\n",
    "            nums.append(character) # append it to the nums list as an intiger  \n",
    "    #print(\"the numbers are\", nums)\n",
    "    #print(\"the combination of numbers\", int(nums[0] + nums[-1]))\n",
    "    \n",
    "    if nums:\n",
    "        current_total = int(nums[0] + nums[-1])\n",
    "        rolling_total += current_total \n",
    "        #print(\"rolling total:\", rolling_total)  \n",
    "\n",
    "\n",
    "print(rolling_total)\n"
   ]
  },
  {
   "cell_type": "markdown",
   "metadata": {},
   "source": []
  }
 ],
 "metadata": {
  "kernelspec": {
   "display_name": "base",
   "language": "python",
   "name": "python3"
  },
  "language_info": {
   "codemirror_mode": {
    "name": "ipython",
    "version": 3
   },
   "file_extension": ".py",
   "mimetype": "text/x-python",
   "name": "python",
   "nbconvert_exporter": "python",
   "pygments_lexer": "ipython3",
   "version": "3.11.4"
  }
 },
 "nbformat": 4,
 "nbformat_minor": 2
}
