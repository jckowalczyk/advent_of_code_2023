{
 "cells": [
  {
   "cell_type": "markdown",
   "metadata": {},
   "source": [
    "# Day 2 "
   ]
  },
  {
   "cell_type": "code",
   "execution_count": 28,
   "metadata": {},
   "outputs": [],
   "source": [
    "# Parsing text\n",
    "\n",
    "import re\n",
    "\n",
    "file = open(r\"C:\\Users\\ASUS\\Documents\\3 - Portfolio\\advent_of_code_2023\\day_2\\input\", \"r\")\n",
    "\n",
    "input = file.read().strip()\n",
    "\n",
    "#print(input)"
   ]
  },
  {
   "cell_type": "markdown",
   "metadata": {},
   "source": [
    "## Part 1 \n",
    "\n",
    "which games would have been possible if the bag contained only 12 red cubes, 13 green cubes, and 14 blue cubes?"
   ]
  },
  {
   "cell_type": "code",
   "execution_count": 31,
   "metadata": {},
   "outputs": [
    {
     "name": "stdout",
     "output_type": "stream",
     "text": [
      "2727\n"
     ]
    }
   ],
   "source": [
    "ans = 0 \n",
    "\n",
    "for line in input.split(\"\\n\"):\n",
    "    #print(line)\n",
    "    ok = True\n",
    "    id, line = line.split(\":\")\n",
    "    #print(id)\n",
    "    #print(line)\n",
    "    for event in line.split(\";\"):\n",
    "        #print(event)\n",
    "        for balls in event.split(\",\"):\n",
    "            #print(balls)\n",
    "            n, colour = balls.split()\n",
    "            #print(n)\n",
    "            #print(colour)  \n",
    "            if int(n) > {\"red\": 12, \"green\": 13, \"blue\": 14}.get(colour,0):\n",
    "                ok = False\n",
    "    if ok:\n",
    "        ans += int(id.split()[-1])\n",
    "\n",
    "\n",
    "print(ans)"
   ]
  },
  {
   "cell_type": "markdown",
   "metadata": {},
   "source": [
    "## Part 2 \n",
    "\n",
    "Find the minimum amount of cubes required to play each game \n",
    "calculate the sum of the power = each set of cubes multiplied (red * green * blue) \n",
    "\n",
    "\n",
    "Iterate through list to the ball colour and number level. \n",
    "Have a storage for highest number of balls per respective colour at game level \n",
    "If ball number is higher than the current maximum, set as new maximum. \n",
    "Ones iterated through game, calculate power \n",
    "have a counter append the sum of the power and iterate through entire list"
   ]
  },
  {
   "cell_type": "code",
   "execution_count": 30,
   "metadata": {},
   "outputs": [
    {
     "name": "stdout",
     "output_type": "stream",
     "text": [
      "56580\n"
     ]
    }
   ],
   "source": [
    "ans = 0\n",
    "score = 1 # we have to set the score to 1 instead of 0 so that you can multiply the powers at the begining. \n",
    "\n",
    "for line in input.split(\"\\n\"): \n",
    "    #print(line)\n",
    "    id, line = line.split(\":\")\n",
    "    v = {} # creates a blank dictionary\n",
    "    for event in line.split(\";\"):\n",
    "        for balls in event.split(\",\"):\n",
    "            n, colour = balls.split()\n",
    "            v[colour] = max(v.get(colour, 0), int(n)) # creates an entry in the dictionary with the maximum value of each colour per game\n",
    "\n",
    "    for value in  v.values(): \n",
    "        score *= value # for each game, calculate the power\n",
    "\n",
    "\n",
    "    ans += score # add the power of each game to the answer\n",
    "    score = 1 # reset the rolling total to 1 so you can start again.\n",
    "            \n",
    "print(ans)"
   ]
  }
 ],
 "metadata": {
  "kernelspec": {
   "display_name": "base",
   "language": "python",
   "name": "python3"
  },
  "language_info": {
   "codemirror_mode": {
    "name": "ipython",
    "version": 3
   },
   "file_extension": ".py",
   "mimetype": "text/x-python",
   "name": "python",
   "nbconvert_exporter": "python",
   "pygments_lexer": "ipython3",
   "version": "3.11.4"
  }
 },
 "nbformat": 4,
 "nbformat_minor": 2
}
